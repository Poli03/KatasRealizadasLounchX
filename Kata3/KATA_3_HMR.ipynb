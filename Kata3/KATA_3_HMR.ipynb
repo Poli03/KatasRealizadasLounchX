{
 "cells": [
  {
   "cell_type": "markdown",
   "metadata": {},
   "source": [
    "Ejercicio 1"
   ]
  },
  {
   "cell_type": "code",
   "execution_count": 1,
   "metadata": {},
   "outputs": [
    {
     "name": "stdout",
     "output_type": "stream",
     "text": [
      "¡Alerta! ¡Un asteroide se acerca a velocidades peligrosas!\n"
     ]
    }
   ],
   "source": [
    "asteroide = 49 #km/s\n",
    "if asteroide > 25:\n",
    "    print('Alerta, Un asteroide se acerca a velocidad peligrosa')\n",
    "else:\n",
    "    print('No pasa nada con el asteroide')"
   ]
  },
  {
   "cell_type": "markdown",
   "metadata": {},
   "source": [
    "Ejercicio 2"
   ]
  },
  {
   "cell_type": "code",
   "execution_count": 1,
   "metadata": {},
   "outputs": [
    {
     "name": "stdout",
     "output_type": "stream",
     "text": [
      "¡Nada que ver aquí!\n"
     ]
    }
   ],
   "source": [
    "asteroide = 19 #km/s\n",
    "if asteroide > 20:\n",
    "    print('Rayo de luz producido por el asteroide!')\n",
    "elif asteroide == 20:\n",
    "    print('Rayo de luz producido por el asteroide')\n",
    "else:\n",
    "    print('No hay rayo de luz')"
   ]
  },
  {
   "cell_type": "markdown",
   "metadata": {},
   "source": [
    "Ejercicio 3"
   ]
  },
  {
   "cell_type": "code",
   "execution_count": 9,
   "metadata": {},
   "outputs": [
    {
     "name": "stdout",
     "output_type": "stream",
     "text": [
      "No pasa nada con el asteroide\n"
     ]
    }
   ],
   "source": [
    "vel_Aste = 15\n",
    "tam_Aste = 20\n",
    "if vel_Aste > 25 and tam_Aste > 25:\n",
    "    print('Alerta, Un asteroide se acerca a velocidad peligrosa')\n",
    "elif vel_Aste >= 20:\n",
    "    print('Rayo de luz producido por el asteroide')\n",
    "elif tam_Aste < 25:\n",
    "    print('No pasa nada con el asteroide')\n",
    "else:\n",
    "    print('No pasa nada con el asteroide')"
   ]
  }
 ],
 "metadata": {
  "interpreter": {
   "hash": "ff9b5250870bca6e00fa1dc938d5223a30effd5f6249cdc1c2981bea4e9b364a"
  },
  "kernelspec": {
   "display_name": "Python 3.10.2 64-bit",
   "language": "python",
   "name": "python3"
  },
  "language_info": {
   "codemirror_mode": {
    "name": "ipython",
    "version": 3
   },
   "file_extension": ".py",
   "mimetype": "text/x-python",
   "name": "python",
   "nbconvert_exporter": "python",
   "pygments_lexer": "ipython3",
   "version": "3.10.2"
  },
  "orig_nbformat": 4
 },
 "nbformat": 4,
 "nbformat_minor": 2
}
