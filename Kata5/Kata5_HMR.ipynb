{
 "cells": [
  {
   "cell_type": "markdown",
   "metadata": {},
   "source": [
    "Ejercicio1 - Utilizar operadores aritméticos"
   ]
  },
  {
   "cell_type": "code",
   "execution_count": 10,
   "metadata": {},
   "outputs": [
    {
     "name": "stdout",
     "output_type": "stream",
     "text": [
      "628949330\n",
      "390577533.93\n"
     ]
    }
   ],
   "source": [
    "planet1 = 149597870\n",
    "planet2 = 778547200\n",
    "\n",
    "dkm = planet2 - planet1\n",
    "print(dkm)\n",
    "\n",
    "dMi = dkm * 0.621\n",
    "print(dMi)"
   ]
  },
  {
   "cell_type": "markdown",
   "metadata": {},
   "source": [
    "Ejercicio 2: convierte cadenas en números y usa valores absolutos"
   ]
  },
  {
   "cell_type": "code",
   "execution_count": 1,
   "metadata": {},
   "outputs": [
    {
     "name": "stdout",
     "output_type": "stream",
     "text": [
      "1 Km\n",
      "0.621 Millas\n"
     ]
    }
   ],
   "source": [
    "planet1 = input('Introduzca la distancia del sol para el primer planeta en KM')\n",
    "planet2 = input('Introduzca la distancia desde el sol para el segundo planeta en KM')\n",
    "\n",
    "planet1 = int(planet1)\n",
    "planet2 = int(planet2)\n",
    "dkm = planet2 - planet1\n",
    "print(str(dkm) +\" Km\")\n",
    "\n",
    "\n",
    "dMi = dkm * 0.621\n",
    "print(str(abs(dMi))+ \" Millas\")"
   ]
  }
 ],
 "metadata": {
  "interpreter": {
   "hash": "ff9b5250870bca6e00fa1dc938d5223a30effd5f6249cdc1c2981bea4e9b364a"
  },
  "kernelspec": {
   "display_name": "Python 3.10.2 64-bit",
   "language": "python",
   "name": "python3"
  },
  "language_info": {
   "codemirror_mode": {
    "name": "ipython",
    "version": 3
   },
   "file_extension": ".py",
   "mimetype": "text/x-python",
   "name": "python",
   "nbconvert_exporter": "python",
   "pygments_lexer": "ipython3",
   "version": "3.10.2"
  },
  "orig_nbformat": 4
 },
 "nbformat": 4,
 "nbformat_minor": 2
}
